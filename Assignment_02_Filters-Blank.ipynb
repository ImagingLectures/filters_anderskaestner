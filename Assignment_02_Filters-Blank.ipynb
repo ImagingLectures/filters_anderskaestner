{
 "cells": [
  {
   "cell_type": "markdown",
   "metadata": {},
   "source": [
    "# Assignment 2 - Filters"
   ]
  },
  {
   "cell_type": "code",
   "execution_count": null,
   "metadata": {
    "collapsed": true
   },
   "outputs": [],
   "source": [
    "import numpy as np\n",
    "import matplotlib.pyplot as plt\n",
    "from scipy import ndimage\n",
    "# this line is needed to display the plots and images inline on the notebook\n",
    "%matplotlib inline "
   ]
  },
  {
   "cell_type": "markdown",
   "metadata": {},
   "source": [
    "## Low-pass filters\n",
    "Load the test image sand_bilevel.png and add Gaussian noise $\\mathcal{N}$(0,0.25).\n",
    "\n",
    "### Exercise 1\n",
    "Test filter performance of different image filters:\n",
    "* Box (3$\\times$3, 5$\\times$5, 7$\\times$7)\n",
    "* Gauss $\\sigma$=1,2,3\n",
    "\n"
   ]
  },
  {
   "cell_type": "markdown",
   "metadata": {},
   "source": [
    "### Prepare test image"
   ]
  },
  {
   "cell_type": "code",
   "execution_count": null,
   "metadata": {},
   "outputs": [],
   "source": [
    "original = plt.imread('sand_bilevel.png') # add you loadning code here\n",
    "noisy    = original + np.random.normal(0,0.25,original.shape) # add the Gaussian noise\n",
    "plt.figure(figsize=[15,7])\n",
    "plt.subplot(1,3,1)\n",
    "plt.imshow(original)\n",
    "plt.subplot(1,3,2)\n",
    "plt.imshow(noisy)"
   ]
  },
  {
   "cell_type": "markdown",
   "metadata": {},
   "source": [
    "### Box filter\n",
    "Box filters are computed using the function\n",
    "b = ndimage.filters.uniform_filter(img,[N,N])\n",
    "\n",
    "* img the image to filter\n",
    "* N kernel size\n",
    "* b resulting image\n",
    "\n",
    "Apply the box filter with N=(3$\\times$3, 5$\\times$5, 7$\\times$7)\n",
    "\n",
    "It is recommended to use plt.subplot to save space"
   ]
  },
  {
   "cell_type": "code",
   "execution_count": null,
   "metadata": {},
   "outputs": [],
   "source": []
  },
  {
   "cell_type": "markdown",
   "metadata": {},
   "source": [
    "### Gauss filter\n",
    "Gauss filters are computed using the function\n",
    "g = ndimage.filters.gaussian_filter(img,sigma=s)\n",
    "\n",
    "* img the image to filter\n",
    "* s is the width of the kernel\n",
    "* g resulting image\n",
    "\n",
    "Apply Gauss filters with $\\sigma$=1,2,3\n",
    "\n",
    "It is recommended to use plt.subplot to save space"
   ]
  },
  {
   "cell_type": "code",
   "execution_count": null,
   "metadata": {
    "scrolled": true
   },
   "outputs": [],
   "source": []
  },
  {
   "cell_type": "markdown",
   "metadata": {},
   "source": [
    "## Separable kernels\n",
    "### Exercise 2 \n",
    "Compare (subtract) how well separation of a kernel works. Use box filters 3$\\times$3 and 7$\\times$7. \n",
    "\n",
    "You need to call ndimage.filters.uniform_filter twice once with [N,1] and once with [1,N]\n",
    "\n",
    "* How well does it match visually\n",
    "* Is there a numeric difference, why?"
   ]
  },
  {
   "cell_type": "code",
   "execution_count": null,
   "metadata": {},
   "outputs": [],
   "source": []
  },
  {
   "cell_type": "markdown",
   "metadata": {},
   "source": [
    "## Gradients\n",
    "\n",
    "Now we want to test the accuracy of two gradient kernels. To do\n",
    "this create a 1001$\\times$ 1001 image representing\n",
    "\n",
    "$f(x,y)=\\sin(x^2+y^2),\\qquad -5\\leq x,\\,y\\leq 5$\n",
    "\n",
    "This will be our test image. Compute the analytical gradient of\n",
    "$f(x,y)$:\n",
    "\n",
    "$\\nabla\\,f=\\left[\\begin{array}{cc}\\frac{\\partial}{\\partial x}f &\n",
    "\\frac{\\partial}{\\partial y}f\\end{array}\\right]$\n",
    "\n",
    "and create an image containing the argument of the gradient (use\n",
    "atan2), this will be our reference image.\n",
    "\n",
    "Now create the filter kernels for\n",
    "\n",
    "$G1_x={G1_y}^T=\\frac{1}{2}\\left[\\begin{array}{cc} -1 & 1\\end{array}\\right]$\n",
    "\n",
    "and the gradient according to Jähne\n",
    "\n",
    "$G2_y={G2_x}^T=\\frac{1}{32}\\left[\\begin{array}{ccc} -3 &-10& -3\\\\0&\n",
    "0 &0\\\\3 &10& 3\\end{array}\\right]$\n",
    "\n",
    "Filter the test image with the kernels and compute the argument.\n",
    "Compare the argument with the true argument image. You might need\n",
    "to change the color axis with caxis. Conclusion?"
   ]
  },
  {
   "cell_type": "markdown",
   "metadata": {},
   "source": [
    "## Gradient performance with noisy images\n",
    "Use the noisy image you created for low pass filter images. Compute the\n",
    "gradient of the image. As you will see is the gradient sensitive\n",
    "to noise. To avoid this can a low-pass filter be applied before\n",
    "computing the gradient.\n",
    "\n",
    "Now compute the Laplacian of a smoothed image\n",
    "\n",
    "$g=\\triangle(G_{\\sigma}*(f+n))$\n",
    "\n",
    "Where $G_{\\sigma}$ is a Gaussian kernel. Use the gradient defined\n",
    "by Jähne. Implement this filter and try the performance with\n",
    "different $\\sigma$. What happens when $\\sigma$ is small? $n$ is the noise component."
   ]
  },
  {
   "cell_type": "code",
   "execution_count": null,
   "metadata": {
    "collapsed": true
   },
   "outputs": [],
   "source": []
  }
 ],
 "metadata": {
  "kernelspec": {
   "display_name": "Python 3",
   "language": "python",
   "name": "python3"
  },
  "language_info": {
   "codemirror_mode": {
    "name": "ipython",
    "version": 3
   },
   "file_extension": ".py",
   "mimetype": "text/x-python",
   "name": "python",
   "nbconvert_exporter": "python",
   "pygments_lexer": "ipython3",
   "version": "3.5.2"
  }
 },
 "nbformat": 4,
 "nbformat_minor": 2
}
